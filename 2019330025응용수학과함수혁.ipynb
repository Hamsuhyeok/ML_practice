{
  "nbformat": 4,
  "nbformat_minor": 0,
  "metadata": {
    "colab": {
      "provenance": []
    },
    "kernelspec": {
      "name": "python3",
      "display_name": "Python 3"
    },
    "language_info": {
      "name": "python"
    }
  },
  "cells": [
    {
      "cell_type": "markdown",
      "source": [
        "## [상황]\n",
        "주식회사 한경AI에 수석 머신러닝 엔지니어로 취직한 당신. \n",
        "\n",
        "첫번째 프로젝트로 휴대폰으로 식물의 사진을 찍으면 식물의 이름을 알려주는 앱을 개발하였다. \n",
        "하지만 고객센터에 다음과 같은 문의가 빗발쳤다.\n",
        "\n",
        "이용자A : \"붓꽃은 종류가 다양한데 이 앱은 붓꽃의 세부 종류는 구별하지 못하네요. 개선해주세요. 아니면 다른 앱으로 갈아타겠습니다.\"\n",
        "\n",
        "이 위기를 해결하기 위하여 먼저 테이블 데이터를 사용하여 붓꽃의 세부 종류를 구별하는 프로그램을 개발해보자."
      ],
      "metadata": {
        "id": "Wfz6gdoZ_4Tl"
      }
    },
    {
      "cell_type": "markdown",
      "source": [
        "# 데이터 수집\n",
        "다음은 현장 직원이 붓꽃의 데이터를 모아서 정리한 자료이다. 전처리를 시행해 보자."
      ],
      "metadata": {
        "id": "fo78vMsCDDkw"
      }
    },
    {
      "cell_type": "code",
      "source": [
        "import os\n",
        "import pandas as pd\n",
        "\n",
        "\n",
        "s = 'https://archive.ics.uci.edu/ml/machine-learning-databases/iris/iris.data'\n",
        "print('URL:', s)\n",
        "\n",
        "df = pd.read_csv(s,\n",
        "                 header=None,\n",
        "                 encoding='utf-8')\n",
        "\n",
        "df.tail()"
      ],
      "metadata": {
        "colab": {
          "base_uri": "https://localhost:8080/",
          "height": 224
        },
        "id": "NBoIpmiP_7A3",
        "outputId": "1bf81a0f-ffe7-4d76-9b6f-94426315d30b"
      },
      "execution_count": 14,
      "outputs": [
        {
          "output_type": "stream",
          "name": "stdout",
          "text": [
            "URL: https://archive.ics.uci.edu/ml/machine-learning-databases/iris/iris.data\n"
          ]
        },
        {
          "output_type": "execute_result",
          "data": {
            "text/plain": [
              "       0    1    2    3               4\n",
              "145  6.7  3.0  5.2  2.3  Iris-virginica\n",
              "146  6.3  2.5  5.0  1.9  Iris-virginica\n",
              "147  6.5  3.0  5.2  2.0  Iris-virginica\n",
              "148  6.2  3.4  5.4  2.3  Iris-virginica\n",
              "149  5.9  3.0  5.1  1.8  Iris-virginica"
            ],
            "text/html": [
              "\n",
              "  <div id=\"df-40a752a8-4060-497e-b66e-186a100c6c31\">\n",
              "    <div class=\"colab-df-container\">\n",
              "      <div>\n",
              "<style scoped>\n",
              "    .dataframe tbody tr th:only-of-type {\n",
              "        vertical-align: middle;\n",
              "    }\n",
              "\n",
              "    .dataframe tbody tr th {\n",
              "        vertical-align: top;\n",
              "    }\n",
              "\n",
              "    .dataframe thead th {\n",
              "        text-align: right;\n",
              "    }\n",
              "</style>\n",
              "<table border=\"1\" class=\"dataframe\">\n",
              "  <thead>\n",
              "    <tr style=\"text-align: right;\">\n",
              "      <th></th>\n",
              "      <th>0</th>\n",
              "      <th>1</th>\n",
              "      <th>2</th>\n",
              "      <th>3</th>\n",
              "      <th>4</th>\n",
              "    </tr>\n",
              "  </thead>\n",
              "  <tbody>\n",
              "    <tr>\n",
              "      <th>145</th>\n",
              "      <td>6.7</td>\n",
              "      <td>3.0</td>\n",
              "      <td>5.2</td>\n",
              "      <td>2.3</td>\n",
              "      <td>Iris-virginica</td>\n",
              "    </tr>\n",
              "    <tr>\n",
              "      <th>146</th>\n",
              "      <td>6.3</td>\n",
              "      <td>2.5</td>\n",
              "      <td>5.0</td>\n",
              "      <td>1.9</td>\n",
              "      <td>Iris-virginica</td>\n",
              "    </tr>\n",
              "    <tr>\n",
              "      <th>147</th>\n",
              "      <td>6.5</td>\n",
              "      <td>3.0</td>\n",
              "      <td>5.2</td>\n",
              "      <td>2.0</td>\n",
              "      <td>Iris-virginica</td>\n",
              "    </tr>\n",
              "    <tr>\n",
              "      <th>148</th>\n",
              "      <td>6.2</td>\n",
              "      <td>3.4</td>\n",
              "      <td>5.4</td>\n",
              "      <td>2.3</td>\n",
              "      <td>Iris-virginica</td>\n",
              "    </tr>\n",
              "    <tr>\n",
              "      <th>149</th>\n",
              "      <td>5.9</td>\n",
              "      <td>3.0</td>\n",
              "      <td>5.1</td>\n",
              "      <td>1.8</td>\n",
              "      <td>Iris-virginica</td>\n",
              "    </tr>\n",
              "  </tbody>\n",
              "</table>\n",
              "</div>\n",
              "      <button class=\"colab-df-convert\" onclick=\"convertToInteractive('df-40a752a8-4060-497e-b66e-186a100c6c31')\"\n",
              "              title=\"Convert this dataframe to an interactive table.\"\n",
              "              style=\"display:none;\">\n",
              "        \n",
              "  <svg xmlns=\"http://www.w3.org/2000/svg\" height=\"24px\"viewBox=\"0 0 24 24\"\n",
              "       width=\"24px\">\n",
              "    <path d=\"M0 0h24v24H0V0z\" fill=\"none\"/>\n",
              "    <path d=\"M18.56 5.44l.94 2.06.94-2.06 2.06-.94-2.06-.94-.94-2.06-.94 2.06-2.06.94zm-11 1L8.5 8.5l.94-2.06 2.06-.94-2.06-.94L8.5 2.5l-.94 2.06-2.06.94zm10 10l.94 2.06.94-2.06 2.06-.94-2.06-.94-.94-2.06-.94 2.06-2.06.94z\"/><path d=\"M17.41 7.96l-1.37-1.37c-.4-.4-.92-.59-1.43-.59-.52 0-1.04.2-1.43.59L10.3 9.45l-7.72 7.72c-.78.78-.78 2.05 0 2.83L4 21.41c.39.39.9.59 1.41.59.51 0 1.02-.2 1.41-.59l7.78-7.78 2.81-2.81c.8-.78.8-2.07 0-2.86zM5.41 20L4 18.59l7.72-7.72 1.47 1.35L5.41 20z\"/>\n",
              "  </svg>\n",
              "      </button>\n",
              "      \n",
              "  <style>\n",
              "    .colab-df-container {\n",
              "      display:flex;\n",
              "      flex-wrap:wrap;\n",
              "      gap: 12px;\n",
              "    }\n",
              "\n",
              "    .colab-df-convert {\n",
              "      background-color: #E8F0FE;\n",
              "      border: none;\n",
              "      border-radius: 50%;\n",
              "      cursor: pointer;\n",
              "      display: none;\n",
              "      fill: #1967D2;\n",
              "      height: 32px;\n",
              "      padding: 0 0 0 0;\n",
              "      width: 32px;\n",
              "    }\n",
              "\n",
              "    .colab-df-convert:hover {\n",
              "      background-color: #E2EBFA;\n",
              "      box-shadow: 0px 1px 2px rgba(60, 64, 67, 0.3), 0px 1px 3px 1px rgba(60, 64, 67, 0.15);\n",
              "      fill: #174EA6;\n",
              "    }\n",
              "\n",
              "    [theme=dark] .colab-df-convert {\n",
              "      background-color: #3B4455;\n",
              "      fill: #D2E3FC;\n",
              "    }\n",
              "\n",
              "    [theme=dark] .colab-df-convert:hover {\n",
              "      background-color: #434B5C;\n",
              "      box-shadow: 0px 1px 3px 1px rgba(0, 0, 0, 0.15);\n",
              "      filter: drop-shadow(0px 1px 2px rgba(0, 0, 0, 0.3));\n",
              "      fill: #FFFFFF;\n",
              "    }\n",
              "  </style>\n",
              "\n",
              "      <script>\n",
              "        const buttonEl =\n",
              "          document.querySelector('#df-40a752a8-4060-497e-b66e-186a100c6c31 button.colab-df-convert');\n",
              "        buttonEl.style.display =\n",
              "          google.colab.kernel.accessAllowed ? 'block' : 'none';\n",
              "\n",
              "        async function convertToInteractive(key) {\n",
              "          const element = document.querySelector('#df-40a752a8-4060-497e-b66e-186a100c6c31');\n",
              "          const dataTable =\n",
              "            await google.colab.kernel.invokeFunction('convertToInteractive',\n",
              "                                                     [key], {});\n",
              "          if (!dataTable) return;\n",
              "\n",
              "          const docLinkHtml = 'Like what you see? Visit the ' +\n",
              "            '<a target=\"_blank\" href=https://colab.research.google.com/notebooks/data_table.ipynb>data table notebook</a>'\n",
              "            + ' to learn more about interactive tables.';\n",
              "          element.innerHTML = '';\n",
              "          dataTable['output_type'] = 'display_data';\n",
              "          await google.colab.output.renderOutput(dataTable, element);\n",
              "          const docLink = document.createElement('div');\n",
              "          docLink.innerHTML = docLinkHtml;\n",
              "          element.appendChild(docLink);\n",
              "        }\n",
              "      </script>\n",
              "    </div>\n",
              "  </div>\n",
              "  "
            ]
          },
          "metadata": {},
          "execution_count": 14
        }
      ]
    },
    {
      "cell_type": "code",
      "source": [
        "print(df[4].describe())\n",
        "print('')\n",
        "print('주어진 데이터 셋에서 붓꽃의 종류는 ', df[4].unique(),'입니다.')"
      ],
      "metadata": {
        "colab": {
          "base_uri": "https://localhost:8080/"
        },
        "id": "sQK6OWf4_-cY",
        "outputId": "fa8b8f5a-8480-43eb-b428-75bd6f121644"
      },
      "execution_count": 15,
      "outputs": [
        {
          "output_type": "stream",
          "name": "stdout",
          "text": [
            "count             150\n",
            "unique              3\n",
            "top       Iris-setosa\n",
            "freq               50\n",
            "Name: 4, dtype: object\n",
            "\n",
            "주어진 데이터 셋에서 붓꽃의 종류는  ['Iris-setosa' 'Iris-versicolor' 'Iris-virginica'] 입니다.\n"
          ]
        }
      ]
    },
    {
      "cell_type": "markdown",
      "source": [
        "# 문제 1. \n",
        "위에서 정의한 데이터프레임 df를 사용하여 특성(X)와 정답(y)를 구성하자.\n",
        "\n",
        "## 조건\n",
        "1. 데이터 셋에서 2가지 종류의 붓꽃만 사용한다. \n",
        "- 데이터프레임 df에서 0~99행의 자료를 사용한다. \n",
        "- (힌트 df.iloc[   ].values)\n",
        "- (0~99행의 자료를 사용하면 'Iris-setosa', 'Iris-versicolor' 두 종류만 선택된다.)\n",
        "\n",
        "2. 정답 벡터 y의 클래스  \n",
        "- y가 'Iris-setosa'면 음성 클래스 -1, 'Iris-versicolor'이면 양성 클래스 1을 사용한다.\n",
        "- (힌트 np.where(    ))\n",
        "\n",
        "3. 특성 행렬 X 설정\n",
        "- 모든 특성 (4개)를 사용하여 특성 행렬 X를 구성한다.\n",
        "- (힌트 df.iloc[   ].values)\n"
      ],
      "metadata": {
        "id": "P3saz0lGDdV_"
      }
    },
    {
      "cell_type": "code",
      "source": [
        "# %matplotlib inline\n",
        "import matplotlib.pyplot as plt\n",
        "import numpy as np\n",
        "\n",
        "# setosa와 versicolor를 선택합니다\n",
        "y = df.iloc[0:100, 4].values\n",
        "y = np.where(y == 'Iris-setosa', -1, 1)\n",
        "\n",
        "# 꽃받침 길이와 너비, 꽃잎 길이와 너비를 모두 사용합니다. (4개의 피쳐를 모두 사용합니다.)\n",
        "X = df.iloc[0:100, [0,1,2,3]].values\n",
        "\n",
        "print(y)\n",
        "print(X)"
      ],
      "metadata": {
        "id": "FTMX3ULFAEgZ",
        "colab": {
          "base_uri": "https://localhost:8080/"
        },
        "outputId": "3eaf2c54-4a85-4a7d-b09d-c9b9c88c9e6c"
      },
      "execution_count": 16,
      "outputs": [
        {
          "output_type": "stream",
          "name": "stdout",
          "text": [
            "[-1 -1 -1 -1 -1 -1 -1 -1 -1 -1 -1 -1 -1 -1 -1 -1 -1 -1 -1 -1 -1 -1 -1 -1\n",
            " -1 -1 -1 -1 -1 -1 -1 -1 -1 -1 -1 -1 -1 -1 -1 -1 -1 -1 -1 -1 -1 -1 -1 -1\n",
            " -1 -1  1  1  1  1  1  1  1  1  1  1  1  1  1  1  1  1  1  1  1  1  1  1\n",
            "  1  1  1  1  1  1  1  1  1  1  1  1  1  1  1  1  1  1  1  1  1  1  1  1\n",
            "  1  1  1  1]\n",
            "[[5.1 3.5 1.4 0.2]\n",
            " [4.9 3.  1.4 0.2]\n",
            " [4.7 3.2 1.3 0.2]\n",
            " [4.6 3.1 1.5 0.2]\n",
            " [5.  3.6 1.4 0.2]\n",
            " [5.4 3.9 1.7 0.4]\n",
            " [4.6 3.4 1.4 0.3]\n",
            " [5.  3.4 1.5 0.2]\n",
            " [4.4 2.9 1.4 0.2]\n",
            " [4.9 3.1 1.5 0.1]\n",
            " [5.4 3.7 1.5 0.2]\n",
            " [4.8 3.4 1.6 0.2]\n",
            " [4.8 3.  1.4 0.1]\n",
            " [4.3 3.  1.1 0.1]\n",
            " [5.8 4.  1.2 0.2]\n",
            " [5.7 4.4 1.5 0.4]\n",
            " [5.4 3.9 1.3 0.4]\n",
            " [5.1 3.5 1.4 0.3]\n",
            " [5.7 3.8 1.7 0.3]\n",
            " [5.1 3.8 1.5 0.3]\n",
            " [5.4 3.4 1.7 0.2]\n",
            " [5.1 3.7 1.5 0.4]\n",
            " [4.6 3.6 1.  0.2]\n",
            " [5.1 3.3 1.7 0.5]\n",
            " [4.8 3.4 1.9 0.2]\n",
            " [5.  3.  1.6 0.2]\n",
            " [5.  3.4 1.6 0.4]\n",
            " [5.2 3.5 1.5 0.2]\n",
            " [5.2 3.4 1.4 0.2]\n",
            " [4.7 3.2 1.6 0.2]\n",
            " [4.8 3.1 1.6 0.2]\n",
            " [5.4 3.4 1.5 0.4]\n",
            " [5.2 4.1 1.5 0.1]\n",
            " [5.5 4.2 1.4 0.2]\n",
            " [4.9 3.1 1.5 0.1]\n",
            " [5.  3.2 1.2 0.2]\n",
            " [5.5 3.5 1.3 0.2]\n",
            " [4.9 3.1 1.5 0.1]\n",
            " [4.4 3.  1.3 0.2]\n",
            " [5.1 3.4 1.5 0.2]\n",
            " [5.  3.5 1.3 0.3]\n",
            " [4.5 2.3 1.3 0.3]\n",
            " [4.4 3.2 1.3 0.2]\n",
            " [5.  3.5 1.6 0.6]\n",
            " [5.1 3.8 1.9 0.4]\n",
            " [4.8 3.  1.4 0.3]\n",
            " [5.1 3.8 1.6 0.2]\n",
            " [4.6 3.2 1.4 0.2]\n",
            " [5.3 3.7 1.5 0.2]\n",
            " [5.  3.3 1.4 0.2]\n",
            " [7.  3.2 4.7 1.4]\n",
            " [6.4 3.2 4.5 1.5]\n",
            " [6.9 3.1 4.9 1.5]\n",
            " [5.5 2.3 4.  1.3]\n",
            " [6.5 2.8 4.6 1.5]\n",
            " [5.7 2.8 4.5 1.3]\n",
            " [6.3 3.3 4.7 1.6]\n",
            " [4.9 2.4 3.3 1. ]\n",
            " [6.6 2.9 4.6 1.3]\n",
            " [5.2 2.7 3.9 1.4]\n",
            " [5.  2.  3.5 1. ]\n",
            " [5.9 3.  4.2 1.5]\n",
            " [6.  2.2 4.  1. ]\n",
            " [6.1 2.9 4.7 1.4]\n",
            " [5.6 2.9 3.6 1.3]\n",
            " [6.7 3.1 4.4 1.4]\n",
            " [5.6 3.  4.5 1.5]\n",
            " [5.8 2.7 4.1 1. ]\n",
            " [6.2 2.2 4.5 1.5]\n",
            " [5.6 2.5 3.9 1.1]\n",
            " [5.9 3.2 4.8 1.8]\n",
            " [6.1 2.8 4.  1.3]\n",
            " [6.3 2.5 4.9 1.5]\n",
            " [6.1 2.8 4.7 1.2]\n",
            " [6.4 2.9 4.3 1.3]\n",
            " [6.6 3.  4.4 1.4]\n",
            " [6.8 2.8 4.8 1.4]\n",
            " [6.7 3.  5.  1.7]\n",
            " [6.  2.9 4.5 1.5]\n",
            " [5.7 2.6 3.5 1. ]\n",
            " [5.5 2.4 3.8 1.1]\n",
            " [5.5 2.4 3.7 1. ]\n",
            " [5.8 2.7 3.9 1.2]\n",
            " [6.  2.7 5.1 1.6]\n",
            " [5.4 3.  4.5 1.5]\n",
            " [6.  3.4 4.5 1.6]\n",
            " [6.7 3.1 4.7 1.5]\n",
            " [6.3 2.3 4.4 1.3]\n",
            " [5.6 3.  4.1 1.3]\n",
            " [5.5 2.5 4.  1.3]\n",
            " [5.5 2.6 4.4 1.2]\n",
            " [6.1 3.  4.6 1.4]\n",
            " [5.8 2.6 4.  1.2]\n",
            " [5.  2.3 3.3 1. ]\n",
            " [5.6 2.7 4.2 1.3]\n",
            " [5.7 3.  4.2 1.2]\n",
            " [5.7 2.9 4.2 1.3]\n",
            " [6.2 2.9 4.3 1.3]\n",
            " [5.1 2.5 3.  1.1]\n",
            " [5.7 2.8 4.1 1.3]]\n"
          ]
        }
      ]
    },
    {
      "cell_type": "markdown",
      "source": [
        "전처리 완성 예)\n",
        "\n",
        "y = \n",
        "\n",
        "[-1 -1 -1 ...  1  1  1  1]\n",
        "\n",
        "\n",
        "X = \n",
        "\n",
        "[[5.1 3.5 1.4 0.2]\n",
        "\n",
        " [4.9 3.  1.4 0.2]\n",
        "\n",
        " ...\n",
        "\n",
        " [5.1 2.5 3.  1.1]\n",
        "\n",
        " [5.7 2.8 4.1 1.3]]"
      ],
      "metadata": {
        "id": "d6eU5NVgGR3r"
      }
    },
    {
      "cell_type": "markdown",
      "source": [
        "# 문제 2.\n",
        "당신은 전처리가 완료된 자료 X, y를 가지고 아달린 방법을 사용하여 아래의 코드를 완성하였다.\n",
        "하지만 당신이 잠시 화장실에 다녀온 후 사장님께서 아끼는 고양이가 코드의 몇몇 부분을 지운 것을 발견하였다.\n",
        "아래의 코드를 수정하여 다시 완성시키자."
      ],
      "metadata": {
        "id": "o3O5TdNtHY3d"
      }
    },
    {
      "cell_type": "code",
      "source": [
        "def ADAfit(X, y, weight, eta, n_iter ):\n",
        "    cost = []\n",
        "    w=list(weight)\n",
        "    for i in range(n_iter):\n",
        "        Z = net_input(X,w)\n",
        "        output = activation(net_input(X,w))\n",
        "        errors = y-output\n",
        "        w[1:] += eta*X.T.dot(errors)\n",
        "        w[0] += eta*errors.sum()\n",
        "        cost1 = (errors**2).sum() / 2.0\n",
        "        cost.append(cost1)\n",
        "    return [w,cost]\n",
        "\n",
        "def net_input(X,w):\n",
        "    \"\"\"최종 입력 계산\"\"\"\n",
        "    return np.dot(X, w[1:]) + w[0]\n",
        "\n",
        "def activation(X):\n",
        "    return X\n",
        "\n",
        "def predict(X):\n",
        "    \"\"\"단위 계단 함수를 사용하여 클래스 레이블을 반환합니다\"\"\"\n",
        "    return np.where(activation(net_input(X,w)) >= 0.0, 1, -1)\n",
        "\n"
      ],
      "metadata": {
        "id": "X5Hp8byYAXrd"
      },
      "execution_count": 17,
      "outputs": []
    },
    {
      "cell_type": "markdown",
      "source": [
        "(아래의 코드를 사용하여 작성한 코드가 문제가 없는지 확인할 수 있다.)"
      ],
      "metadata": {
        "id": "CE69LZgbKClB"
      }
    },
    {
      "cell_type": "code",
      "source": [
        "# 랜덤한 초기 가중치 생성\n",
        "random_state=1\n",
        "rgen = np.random.RandomState(random_state)\n",
        "weight = rgen.normal(loc=0.0, scale=0.01, size=1 + X.shape[1])\n",
        "weight=tuple(weight)\n",
        "print(weight)\n",
        "\n",
        "import matplotlib.pyplot as plt\n",
        "\n",
        "fig, ax = plt.subplots(nrows=1, ncols=1, figsize=(4, 4))\n",
        "\n",
        "ada2 = ADAfit(X, y,weight, 0.0001, 10)[1]\n",
        "\n",
        "ax.plot(range(1, len(ada2) + 1), ada2, marker='o')\n",
        "ax.set_xlabel('Epochs')\n",
        "ax.set_ylabel('Sum-squared-error')\n",
        "ax.set_title('Adaline - Learning rate 0.0001')"
      ],
      "metadata": {
        "colab": {
          "base_uri": "https://localhost:8080/",
          "height": 446
        },
        "id": "QavNXWbJIb49",
        "outputId": "285c61a0-6e56-46d0-9539-6688e2594211"
      },
      "execution_count": 18,
      "outputs": [
        {
          "output_type": "stream",
          "name": "stdout",
          "text": [
            "(0.01624345363663242, -0.006117564136500754, -0.005281717522634557, -0.010729686221561705, 0.008654076293246785)\n"
          ]
        },
        {
          "output_type": "execute_result",
          "data": {
            "text/plain": [
              "Text(0.5, 1.0, 'Adaline - Learning rate 0.0001')"
            ]
          },
          "metadata": {},
          "execution_count": 18
        },
        {
          "output_type": "display_data",
          "data": {
            "text/plain": [
              "<Figure size 400x400 with 1 Axes>"
            ],
            "image/png": "[encoded data removed]"
          },
          "metadata": {}
        }
      ]
    },
    {
      "cell_type": "markdown",
      "source": [
        "# 문제 3. \n",
        "아달린은 특성 스케일을 조정했을 때 더 나은 결과를 얻을 수 있다고 알려져있다.\n",
        "표준화를 사용하여 표준화된 특성 X_std를 구해보자.\n",
        "\n",
        "- 표준화 공식 : $x'_j=\\frac{x_j-\\mu_j}{\\sigma_j}$\n",
        "- (힌트 : X[  ].mean(), X[  ].std())"
      ],
      "metadata": {
        "id": "pmfHsSS9KRqn"
      }
    },
    {
      "cell_type": "code",
      "source": [
        "# 특성을 표준화합니다.\n",
        "X_std = np.copy(X)\n",
        "X_std[:, 0] = (X[:, 0] - X[:, 0].mean()) / X[:, 0].std()\n",
        "X_std[:, 1] = (X[:, 1] - X[:, 1].mean()) / X[:, 1].std()\n",
        "X_std[:, 2] = (X[:, 2] - X[:, 2].mean()) / X[:, 2].std()\n",
        "X_std[:, 3] = (X[:, 3] - X[:, 3].mean()) / X[:, 3].std()"
      ],
      "metadata": {
        "id": "XVK3yP3wBWdq"
      },
      "execution_count": 19,
      "outputs": []
    },
    {
      "cell_type": "markdown",
      "source": [
        "모든 문제를 해결한 당신 아래의 코드를 실행하여 학습결과를 살펴보자."
      ],
      "metadata": {
        "id": "yw3LVOXBL1zp"
      }
    },
    {
      "cell_type": "code",
      "source": [
        "import matplotlib.pyplot as plt\n",
        "\n",
        "fig, ax = plt.subplots(nrows=1, ncols=3, figsize=(15, 4))\n",
        "\n",
        "ada1 = ADAfit(X, y, weight, 0.01, 10)[1]\n",
        "ax[0].plot(range(1, len(ada1) + 1), np.log10(ada1), marker='o')\n",
        "ax[0].set_xlabel('Epochs')\n",
        "ax[0].set_ylabel('log(Sum-squared-error)')\n",
        "ax[0].set_title('Adaline - Learning rate 0.01')\n",
        "\n",
        "\n",
        "ada2 = ADAfit(X, y,weight, 0.0001, 10)[1]\n",
        "ax[1].plot(range(1, len(ada2) + 1), ada2, marker='o')\n",
        "ax[1].set_xlabel('Epochs')\n",
        "ax[1].set_ylabel('Sum-squared-error')\n",
        "ax[1].set_title('Adaline - Learning rate 0.0001')\n",
        "\n",
        "ada3 = ADAfit(X_std, y,weight, 0.001, 10)[1]\n",
        "ax[2].plot(range(1, len(ada3) + 1), ada3, marker='o')\n",
        "ax[2].set_xlabel('Epochs')\n",
        "ax[2].set_ylabel('Sum-squared-error')\n",
        "ax[2].set_title('Adaline - Learning rate 0.001, STD')\n",
        "\n",
        "\n",
        "plt.show()"
      ],
      "metadata": {
        "colab": {
          "base_uri": "https://localhost:8080/",
          "height": 410
        },
        "id": "q92DkM9uBaVs",
        "outputId": "b6a5b549-3d2c-44bf-cc71-340197c13516"
      },
      "execution_count": 20,
      "outputs": [
        {
          "output_type": "display_data",
          "data": {
            "text/plain": [
              "<Figure size 1500x400 with 3 Axes>"
            ],
            "image/png": "[encoded data removed]"
          },
          "metadata": {}
        }
      ]
    },
    {
      "cell_type": "code",
      "source": [],
      "metadata": {
        "id": "8UNRdApNBeqg"
      },
      "execution_count": null,
      "outputs": []
    }
  ]
}